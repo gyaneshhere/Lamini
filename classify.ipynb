{
 "cells": [
  {
   "cell_type": "markdown",
   "metadata": {},
   "source": [
    "# Lamini Classifier Example\n",
    "First let's install the Lamini Python SDK."
   ]
  },
  {
   "cell_type": "code",
   "execution_count": 1,
   "metadata": {},
   "outputs": [
    {
     "name": "stdout",
     "output_type": "stream",
     "text": [
      "Collecting lamini\n",
      "  Downloading lamini-3.2.3-16-py3-none-any.whl.metadata (1.6 kB)\n",
      "Collecting lamini-configuration[yaml] (from lamini)\n",
      "  Downloading lamini_configuration-0.8.3-py3-none-any.whl.metadata (11 kB)\n",
      "Requirement already satisfied: requests in /Library/Frameworks/Python.framework/Versions/3.12/lib/python3.12/site-packages (from lamini) (2.32.3)\n",
      "Requirement already satisfied: tqdm in /Library/Frameworks/Python.framework/Versions/3.12/lib/python3.12/site-packages (from lamini) (4.66.4)\n",
      "Requirement already satisfied: numpy<2.0.0 in /Library/Frameworks/Python.framework/Versions/3.12/lib/python3.12/site-packages (from lamini) (1.26.4)\n",
      "Collecting jsonlines (from lamini)\n",
      "  Downloading jsonlines-4.0.0-py3-none-any.whl.metadata (1.6 kB)\n",
      "Requirement already satisfied: pandas in /Library/Frameworks/Python.framework/Versions/3.12/lib/python3.12/site-packages (from lamini) (1.5.3)\n",
      "Collecting azure-storage-blob (from lamini)\n",
      "  Downloading azure_storage_blob-12.24.0-py3-none-any.whl.metadata (26 kB)\n",
      "Requirement already satisfied: scikit-learn in /Library/Frameworks/Python.framework/Versions/3.12/lib/python3.12/site-packages (from lamini) (1.5.1)\n",
      "Requirement already satisfied: aiohttp in /Library/Frameworks/Python.framework/Versions/3.12/lib/python3.12/site-packages (from lamini) (3.10.10)\n",
      "Requirement already satisfied: aiohappyeyeballs>=2.3.0 in /Library/Frameworks/Python.framework/Versions/3.12/lib/python3.12/site-packages (from aiohttp->lamini) (2.4.3)\n",
      "Requirement already satisfied: aiosignal>=1.1.2 in /Library/Frameworks/Python.framework/Versions/3.12/lib/python3.12/site-packages (from aiohttp->lamini) (1.3.1)\n",
      "Requirement already satisfied: attrs>=17.3.0 in /Library/Frameworks/Python.framework/Versions/3.12/lib/python3.12/site-packages (from aiohttp->lamini) (23.2.0)\n",
      "Requirement already satisfied: frozenlist>=1.1.1 in /Library/Frameworks/Python.framework/Versions/3.12/lib/python3.12/site-packages (from aiohttp->lamini) (1.4.1)\n",
      "Requirement already satisfied: multidict<7.0,>=4.5 in /Library/Frameworks/Python.framework/Versions/3.12/lib/python3.12/site-packages (from aiohttp->lamini) (6.0.5)\n",
      "Requirement already satisfied: yarl<2.0,>=1.12.0 in /Library/Frameworks/Python.framework/Versions/3.12/lib/python3.12/site-packages (from aiohttp->lamini) (1.15.0)\n",
      "Collecting azure-core>=1.30.0 (from azure-storage-blob->lamini)\n",
      "  Downloading azure_core-1.32.0-py3-none-any.whl.metadata (39 kB)\n",
      "Requirement already satisfied: cryptography>=2.1.4 in /Library/Frameworks/Python.framework/Versions/3.12/lib/python3.12/site-packages (from azure-storage-blob->lamini) (43.0.1)\n",
      "Requirement already satisfied: typing-extensions>=4.6.0 in /Library/Frameworks/Python.framework/Versions/3.12/lib/python3.12/site-packages (from azure-storage-blob->lamini) (4.12.2)\n",
      "Collecting isodate>=0.6.1 (from azure-storage-blob->lamini)\n",
      "  Downloading isodate-0.7.2-py3-none-any.whl.metadata (11 kB)\n",
      "Requirement already satisfied: pyyaml<7.0,>=6.0 in /Library/Frameworks/Python.framework/Versions/3.12/lib/python3.12/site-packages (from lamini-configuration[yaml]->lamini) (6.0.1)\n",
      "Requirement already satisfied: python-dateutil>=2.8.1 in /Library/Frameworks/Python.framework/Versions/3.12/lib/python3.12/site-packages (from pandas->lamini) (2.9.0.post0)\n",
      "Requirement already satisfied: pytz>=2020.1 in /Library/Frameworks/Python.framework/Versions/3.12/lib/python3.12/site-packages (from pandas->lamini) (2023.4)\n",
      "Requirement already satisfied: charset-normalizer<4,>=2 in /Library/Frameworks/Python.framework/Versions/3.12/lib/python3.12/site-packages (from requests->lamini) (3.3.2)\n",
      "Requirement already satisfied: idna<4,>=2.5 in /Library/Frameworks/Python.framework/Versions/3.12/lib/python3.12/site-packages (from requests->lamini) (3.7)\n",
      "Requirement already satisfied: urllib3<3,>=1.21.1 in /Library/Frameworks/Python.framework/Versions/3.12/lib/python3.12/site-packages (from requests->lamini) (2.0.7)\n",
      "Requirement already satisfied: certifi>=2017.4.17 in /Library/Frameworks/Python.framework/Versions/3.12/lib/python3.12/site-packages (from requests->lamini) (2024.7.4)\n",
      "Requirement already satisfied: scipy>=1.6.0 in /Library/Frameworks/Python.framework/Versions/3.12/lib/python3.12/site-packages (from scikit-learn->lamini) (1.14.1)\n",
      "Requirement already satisfied: joblib>=1.2.0 in /Library/Frameworks/Python.framework/Versions/3.12/lib/python3.12/site-packages (from scikit-learn->lamini) (1.4.2)\n",
      "Requirement already satisfied: threadpoolctl>=3.1.0 in /Library/Frameworks/Python.framework/Versions/3.12/lib/python3.12/site-packages (from scikit-learn->lamini) (3.5.0)\n",
      "Requirement already satisfied: six>=1.11.0 in /Library/Frameworks/Python.framework/Versions/3.12/lib/python3.12/site-packages (from azure-core>=1.30.0->azure-storage-blob->lamini) (1.16.0)\n",
      "Requirement already satisfied: cffi>=1.12 in /Library/Frameworks/Python.framework/Versions/3.12/lib/python3.12/site-packages (from cryptography>=2.1.4->azure-storage-blob->lamini) (1.16.0)\n",
      "Requirement already satisfied: propcache>=0.2.0 in /Library/Frameworks/Python.framework/Versions/3.12/lib/python3.12/site-packages (from yarl<2.0,>=1.12.0->aiohttp->lamini) (0.2.0)\n",
      "Requirement already satisfied: pycparser in /Library/Frameworks/Python.framework/Versions/3.12/lib/python3.12/site-packages (from cffi>=1.12->cryptography>=2.1.4->azure-storage-blob->lamini) (2.22)\n",
      "Downloading lamini-3.2.3-16-py3-none-any.whl (697 kB)\n",
      "\u001b[2K   \u001b[90m━━━━━━━━━━━━━━━━━━━━━━━━━━━━━━━━━━━━━━━━\u001b[0m \u001b[32m697.7/697.7 kB\u001b[0m \u001b[31m3.5 MB/s\u001b[0m eta \u001b[36m0:00:00\u001b[0ma \u001b[36m0:00:01\u001b[0m\n",
      "\u001b[?25hDownloading azure_storage_blob-12.24.0-py3-none-any.whl (408 kB)\n",
      "Downloading jsonlines-4.0.0-py3-none-any.whl (8.7 kB)\n",
      "Downloading azure_core-1.32.0-py3-none-any.whl (198 kB)\n",
      "Downloading isodate-0.7.2-py3-none-any.whl (22 kB)\n",
      "Downloading lamini_configuration-0.8.3-py3-none-any.whl (22 kB)\n",
      "Installing collected packages: lamini-configuration, jsonlines, isodate, azure-core, azure-storage-blob, lamini\n",
      "Successfully installed azure-core-1.32.0 azure-storage-blob-12.24.0 isodate-0.7.2 jsonlines-4.0.0 lamini-3.2.3 lamini-configuration-0.8.3\n",
      "Note: you may need to restart the kernel to use updated packages.\n"
     ]
    }
   ],
   "source": [
    "pip install lamini --upgrade"
   ]
  },
  {
   "cell_type": "markdown",
   "metadata": {},
   "source": [
    "Now let's import the Lamini Python SDK and set our API key. You can get your API key from app.lamini.ai - every user gets $300 in free credits to get started."
   ]
  },
  {
   "cell_type": "code",
   "execution_count": 2,
   "metadata": {},
   "outputs": [],
   "source": [
    "import lamini\n",
    "\n",
    "lamini.api_key = \"<api-key> goes here\""
   ]
  },
  {
   "cell_type": "markdown",
   "metadata": {},
   "source": [
    "Now we're all set up. The first thing we do is define a classifier - Lamini uses the concept of a \"project\" to contain one or many classifier versions for a given task.\n",
    "\n",
    "When you create a project, you define several key elements that can't be changed later:\n",
    "\n",
    "1. A project name\n",
    "2. A set of categories or classes that you need to categorize\n",
    "3. Descriptions of each category\n",
    "\n",
    "Projects also (eventually) contain one or many versions of:\n",
    "\n",
    "1. Example inputs and the expected output - we call this a dataset\n",
    "2. Models trained on the dataset(s) you've provided\n",
    "\n",
    "Below we're creating a project named \"ClassifierExample\" with a random suffix (just in case you're creating a few!).\n"
   ]
  },
  {
   "cell_type": "code",
   "execution_count": 3,
   "metadata": {},
   "outputs": [],
   "source": [
    "from lamini.classify.lamini_classifier import LaminiClassifier\n",
    "import random\n",
    "\n",
    "cls = LaminiClassifier(\n",
    "    f\"ClassifierExample{random.randint(1000,9999)}\"\n",
    ")"
   ]
  },
  {
   "cell_type": "markdown",
   "metadata": {},
   "source": [
    "Once the project is created, we define the classes. The more detailed the description, the higher your accuracy will be."
   ]
  },
  {
   "cell_type": "code",
   "execution_count": 4,
   "metadata": {},
   "outputs": [],
   "source": [
    "\n",
    "classes = {\n",
    "    \"cat\": \"\"\"The cat (Felis catus), also referred to as domestic cat or house cat, is a small domesticated carnivorous mammal. It is the only domesticated species of the family Felidae. Advances in archaeology and genetics have shown that the domestication of the cat occurred in the Near East around 7500 BC. It is commonly kept as a pet and farm cat, but also ranges freely as a feral cat avoiding human contact. Valued by humans for companionship and its ability to kill vermin, the cat's retractable claws are adapted to killing small prey like mice and rats. It has a strong, flexible body, quick reflexes, and sharp teeth, and its night vision and sense of smell are well developed. It is a social species, but a solitary hunter and a crepuscular predator. Cat communication includes vocalizations—including meowing, purring, trilling, hissing, growling, and grunting–as well as body language. It can hear sounds too faint or too high in frequency for human ears, such as those made by small mammals. It secretes and perceives pheromones.\n",
    "            Domain:\tEukaryota\n",
    "            Kingdom:\tAnimalia\n",
    "            Phylum:\tChordata\n",
    "            Class:\tMammalia\n",
    "            Order:\tCarnivora\n",
    "            Suborder:\tFeliformia\n",
    "            Family:\tFelidae\n",
    "            Subfamily:\tFelinae\n",
    "            Genus:\tFelis\n",
    "            Species:\tF. catus[1]\"\"\",\n",
    "    \"dog\": \"\"\"The dog is a domesticated descendant of the wolf. Also called the domestic dog, it was selectively bred from an extinct population of wolves during the Late Pleistocene by hunter-gatherers. The dog was the first species to be domesticated by humans, over 14,000 years ago and before the development of agriculture. \n",
    "            Domain:\tEukaryota\n",
    "            Kingdom:\tAnimalia\n",
    "            Phylum:\tChordata\n",
    "            Class:\tMammalia\n",
    "            Order:\tCarnivora\n",
    "            Family:\tCanidae\n",
    "            Genus:\tCanis\"\"\",\n",
    "}\n"
   ]
  },
  {
   "cell_type": "markdown",
   "metadata": {},
   "source": [
    "Adding example inputs is optional, but will also help with accuracy. You can always do this later - we'll show you how later in this notebook."
   ]
  },
  {
   "cell_type": "code",
   "execution_count": 5,
   "metadata": {},
   "outputs": [],
   "source": [
    "\n",
    "examples = {\n",
    "    \"cat\": [\n",
    "        \"Tend to be independent and aloof.\",\n",
    "        \"Territorial and defensive .\",\n",
    "        \"Self-grooming animals, using their tongues to keep their coats clean and healthy.\",\n",
    "        \"Use body language and vocalizations, such as meowing and purring, to communicate.\"\n",
    "    ],\n",
    "    \"dog\": [\n",
    "        \"Social, pack-oriented, and tend to be more loyal to their human family.\",\n",
    "        \"Need regular grooming from their owners, including brushing and bathing.\",\n",
    "        \"Bark and growl to convey their messages.\",\n",
    "        \"Responsive to human commands and can be trained to perform a wide range of tasks.\"\n",
    "    ],\n",
    "}\n"
   ]
  },
  {
   "cell_type": "markdown",
   "metadata": {},
   "source": [
    "Now we initialize the project. This can take about a minute per class, so we'll put in a simple timer to keep us updated on status."
   ]
  },
  {
   "cell_type": "code",
   "execution_count": 6,
   "metadata": {},
   "outputs": [
    {
     "name": "stdout",
     "output_type": "stream",
     "text": [
      "Waiting for classifier to initialize\n",
      "Waiting for classifier to initialize\n",
      "Waiting for classifier to initialize\n",
      "Waiting for classifier to initialize\n",
      "Waiting for classifier to initialize\n",
      "Waiting for classifier to initialize\n",
      "Waiting for classifier to initialize\n",
      "Waiting for classifier to initialize\n",
      "Waiting for classifier to initialize\n",
      "Waiting for classifier to initialize\n",
      "Waiting for classifier to initialize\n",
      "Waiting for classifier to initialize\n",
      "Waiting for classifier to initialize\n",
      "Waiting for classifier to initialize\n",
      "Waiting for classifier to initialize\n",
      "Waiting for classifier to initialize\n",
      "Waiting for classifier to initialize\n",
      "Waiting for classifier to initialize\n",
      "Waiting for classifier to initialize\n",
      "Waiting for classifier to initialize\n",
      "Waiting for classifier to initialize\n",
      "Model ID: 77bccbac-390a-4a9b-98c6-602f4db8502d\n"
     ]
    }
   ],
   "source": [
    "resp = cls.initialize(classes, examples) \n",
    "\n",
    "import time\n",
    "\n",
    "while True:\n",
    "    print(\"Waiting for classifier to initialize\")\n",
    "    time.sleep(5)\n",
    "    resp = cls.train_status()\n",
    "    if resp[\"status\"] == \"completed\":\n",
    "        print(\"Model ID: \" + resp[\"model_id\"])\n",
    "        first_model_id = resp[\"model_id\"]\n",
    "        break\n",
    "    if resp[\"status\"] == \"failed\":\n",
    "        print(resp[\"status\"])\n",
    "        raise Exception(\"failed training\")\n"
   ]
  },
  {
   "cell_type": "markdown",
   "metadata": {},
   "source": [
    "Cool, we have our first model version! Let's try it out with a quick test."
   ]
  },
  {
   "cell_type": "code",
   "execution_count": 9,
   "metadata": {},
   "outputs": [
    {
     "name": "stdout",
     "output_type": "stream",
     "text": [
      "{\n",
      "  \"classification\": [\n",
      "    [\n",
      "      {\n",
      "        \"class_id\": 0,\n",
      "        \"class_name\": \"cat\",\n",
      "        \"prob\": 0.5164344412265378\n",
      "      },\n",
      "      {\n",
      "        \"class_id\": 1,\n",
      "        \"class_name\": \"dog\",\n",
      "        \"prob\": 0.48356555877346213\n",
      "      }\n",
      "    ]\n",
      "  ]\n",
      "}\n"
     ]
    }
   ],
   "source": [
    "import json\n",
    "\n",
    "print(json.dumps(cls.classify(\"grrrr\"), indent=2))\n"
   ]
  },
  {
   "cell_type": "markdown",
   "metadata": {},
   "source": [
    "Now we can see how useful the classifier output is. We get a list of all the categories we defined in our project, plus a confidence score for each.\n",
    "\n",
    "We can go even further to easily quantify the accuracy of our classifier. Let's run an evaluation!\n",
    "\n",
    "What an evaluation means for a classifier: when you provide a set of inputs and the expected output, we can test the accuracy of the model on those inputs, and give you back both overall metrics as well as per-input assessment. "
   ]
  },
  {
   "cell_type": "code",
   "execution_count": 10,
   "metadata": {},
   "outputs": [
    {
     "name": "stdout",
     "output_type": "stream",
     "text": [
      "{\n",
      "  \"eval_job_id\": \"640937869\",\n",
      "  \"eval_data_id\": \"first_eval1951\",\n",
      "  \"metrics\": {\n",
      "    \"tuned_accuracy\": 1.0,\n",
      "    \"tuned_precision\": 1.0,\n",
      "    \"tuned_recall\": 1.0,\n",
      "    \"tuned_f1\": 1.0\n",
      "  },\n",
      "  \"status\": \"COMPLETED\",\n",
      "  \"predictions\": [\n",
      "    {\n",
      "      \"input\": \"woof\",\n",
      "      \"target\": \"dog\",\n",
      "      \"test_output\": \"dog\",\n",
      "      \"base_output\": null\n",
      "    },\n",
      "    {\n",
      "      \"input\": \"meow\",\n",
      "      \"target\": \"cat\",\n",
      "      \"test_output\": \"cat\",\n",
      "      \"base_output\": null\n",
      "    }\n",
      "  ]\n",
      "}\n"
     ]
    }
   ],
   "source": [
    "from lamini.one_evaler.one_evaler import LaminiOneEvaler\n",
    "\n",
    "eval = LaminiOneEvaler(\n",
    "    test_model_id=first_model_id,\n",
    "    eval_data_id=f\"first_eval{random.randint(1000,9999)}\",\n",
    "    eval_data=[{\"input\": \"woof\", \"target\": \"dog\"}, {\"input\": \"meow\", \"target\": \"cat\"}],\n",
    "    test_eval_type=\"classifier\",\n",
    ")\n",
    "\n",
    "print(json.dumps(eval.run(), indent=2))\n"
   ]
  },
  {
   "cell_type": "markdown",
   "metadata": {},
   "source": [
    "That first run was ok, but we can do better. Let's add some more examples and retrain to improve accuracy. You control when to add data and when to train."
   ]
  },
  {
   "cell_type": "code",
   "execution_count": 11,
   "metadata": {},
   "outputs": [
    {
     "name": "stdout",
     "output_type": "stream",
     "text": [
      "Waiting for classifier to train\n",
      "Waiting for classifier to train\n",
      "Model ID: 2a1800dd-e9f4-4cc9-a0fc-8713e041f2f5\n"
     ]
    }
   ],
   "source": [
    "\n",
    "resp = cls.add(\n",
    "    \"additional_data\",\n",
    "    {\n",
    "        \"cat\": [\n",
    "            \"Cats spend up to sixteen hours a day sleeping, making them some of nature's most dedicated nappers.\",\n",
    "            \"Felines possess an extraordinary sense of balance thanks to their flexible backbone and righting reflex.\",\n",
    "            \"A cat's sandpaper-like tongue is covered in tiny hooks called papillae that help them groom themselves effectively.\",\n",
    "            \"Female cats tend to be right-pawed while male cats are more often left-pawed, according to scientific studies.\",\n",
    "            \"Ancient Egyptians showed their devotion to cats by mummifying them alongside their human companions.\",\n",
    "        ],\n",
    "        \"dog\": [\n",
    "            \"Dogs have evolved alongside humans for over 15,000 years, developing an uncanny ability to read our facial expressions and emotions.\",\n",
    "            \"The average dog can understand around 165 different words or signals, though some exceptional dogs can learn many more.\",\n",
    "            \"A dog's sense of smell is roughly 40 times greater than a human's, allowing them to detect diseases and track scents that are days old.\",\n",
    "            \"Unlike humans who have three cones in their eyes, dogs only have two, making them partially colorblind but excellent at detecting movement.\",\n",
    "            \"The Basenji breed is known as the 'barkless dog' because it produces an unusual yodel-like sound instead of a typical bark.\",\n",
    "        ],\n",
    "    },\n",
    ")\n",
    "\n",
    "resp = cls.train()\n",
    "\n",
    "while True:\n",
    "    print(\"Waiting for classifier to train\")\n",
    "    time.sleep(5)\n",
    "    resp = cls.train_status()\n",
    "    if resp[\"status\"] == \"completed\":\n",
    "        print(\"Model ID: \" + resp[\"model_id\"])\n",
    "        second_model_id = resp[\"model_id\"]\n",
    "        break\n",
    "    if resp[\"status\"] == \"failed\":\n",
    "        print(resp[\"status\"])\n",
    "        raise Exception(\"failed training\")\n"
   ]
  },
  {
   "cell_type": "markdown",
   "metadata": {},
   "source": [
    "Great, now we have a second model version in our project! Let's run an eval and compare it to the first version."
   ]
  },
  {
   "cell_type": "code",
   "execution_count": 12,
   "metadata": {},
   "outputs": [
    {
     "name": "stdout",
     "output_type": "stream",
     "text": [
      "Running comparison eval between model versions 77bccbac-390a-4a9b-98c6-602f4db8502d and 2a1800dd-e9f4-4cc9-a0fc-8713e041f2f5\n",
      "{\n",
      "  \"eval_job_id\": \"1761500469\",\n",
      "  \"eval_data_id\": \"second_eval4884\",\n",
      "  \"metrics\": {\n",
      "    \"base_accuracy\": 1.0,\n",
      "    \"base_precision\": 1.0,\n",
      "    \"base_recall\": 1.0,\n",
      "    \"base_f1\": 1.0,\n",
      "    \"base_fuzzy_accuracy\": 1.0,\n",
      "    \"base_fuzzy_precision\": 1.0,\n",
      "    \"base_fuzzy_recall\": 1.0,\n",
      "    \"base_fuzzy_f1\": 1.0,\n",
      "    \"tuned_accuracy\": 1.0,\n",
      "    \"tuned_precision\": 1.0,\n",
      "    \"tuned_recall\": 1.0,\n",
      "    \"tuned_f1\": 1.0,\n",
      "    \"tuned_fuzzy_accuracy\": 1.0,\n",
      "    \"tuned_fuzzy_precision\": 1.0,\n",
      "    \"tuned_fuzzy_recall\": 1.0,\n",
      "    \"tuned_fuzzy_f1\": 1.0,\n",
      "    \"tuned_win_loss_ratio\": 0.0,\n",
      "    \"base_win_loss_ratio\": 0.0\n",
      "  },\n",
      "  \"status\": \"COMPLETED\",\n",
      "  \"predictions\": [\n",
      "    {\n",
      "      \"input\": \"woof\",\n",
      "      \"target\": \"dog\",\n",
      "      \"test_output\": \"dog\",\n",
      "      \"base_output\": \"dog\"\n",
      "    },\n",
      "    {\n",
      "      \"input\": \"meow\",\n",
      "      \"target\": \"cat\",\n",
      "      \"test_output\": \"cat\",\n",
      "      \"base_output\": \"cat\"\n",
      "    }\n",
      "  ]\n",
      "}\n"
     ]
    }
   ],
   "source": [
    "print(\"Running comparison eval between model versions \" + first_model_id + \" and \" + second_model_id)\n",
    "\n",
    "eval_2 = LaminiOneEvaler(\n",
    "    test_model_id=first_model_id,\n",
    "    eval_data_id=f\"second_eval{random.randint(1000,9999)}\",\n",
    "    eval_data=[{\"input\": \"woof\", \"target\": \"dog\"}, {\"input\": \"meow\", \"target\": \"cat\"}],\n",
    "    test_eval_type=\"classifier\",\n",
    "    base_model_id=second_model_id,\n",
    "    sbs=True,\n",
    "    fuzzy=True,\n",
    ")\n",
    "\n",
    "print(json.dumps(eval_2.run(), indent=2))"
   ]
  },
  {
   "cell_type": "markdown",
   "metadata": {},
   "source": [
    "The eval output makes it easy to compare model versions overall, and to see exactly where the differences are, so you know exactly where to focus to improve your workflow.\n",
    "\n",
    "Happy classifying!"
   ]
  },
  {
   "cell_type": "markdown",
   "metadata": {},
   "source": []
  }
 ],
 "metadata": {
  "kernelspec": {
   "display_name": "Python 3 (ipykernel)",
   "language": "python",
   "name": "python3"
  },
  "language_info": {
   "codemirror_mode": {
    "name": "ipython",
    "version": 3
   },
   "file_extension": ".py",
   "mimetype": "text/x-python",
   "name": "python",
   "nbconvert_exporter": "python",
   "pygments_lexer": "ipython3",
   "version": "3.12.4"
  }
 },
 "nbformat": 4,
 "nbformat_minor": 4
}
